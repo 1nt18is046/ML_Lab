{
 "cells": [
  {
   "cell_type": "code",
   "execution_count": 57,
   "id": "f5111730",
   "metadata": {},
   "outputs": [
    {
     "name": "stdout",
     "output_type": "stream",
     "text": [
      "Mean=8.160 Stdv=3.870\n",
      "Mean=5.839 Stdv=5.510\n",
      "Correlation coeff=0.838\n",
      "slope=1.19303\n",
      "C=-3.89578\n"
     ]
    },
    {
     "data": {
      "image/png": "[encoded data removed]",
      "text/plain": [
       "<Figure size 432x288 with 1 Axes>"
      ]
     },
     "metadata": {
      "needs_background": "light"
     },
     "output_type": "display_data"
    },
    {
     "name": "stdout",
     "output_type": "stream",
     "text": [
      "MSE = 8.95394\n",
      "SSE = 868.532447\n",
      "SSR = 2046.314605\n",
      "SST = 2914.847052\n",
      "R^2 = 0.702032\n"
     ]
    }
   ],
   "source": [
    "import numpy as np\n",
    "from numpy import mean\n",
    "\n",
    "import matplotlib.pyplot as plt\n",
    "from sklearn.cluster import KMeans\n",
    "import pandas as pd\n",
    "import csv\n",
    "import statistics\n",
    "from scipy.stats import pearsonr\n",
    "\n",
    "\n",
    "# X = pd.read_csv(\"~/1nt18is036/Food-Truck-LineReg.csv\")\n",
    "# print(X)\n",
    "x = []\n",
    "y = []\n",
    "\n",
    "with open('Food-Truck-LineReg.csv','r') as csvfile:\n",
    "    plots = csv.reader(csvfile, delimiter = ',')\n",
    "      \n",
    "    for row in plots:\n",
    "        x.append(row[0])\n",
    "        y.append((row[1]))\n",
    "\n",
    "x = list(map(float, x))\n",
    "y = list(map(float, y))\n",
    "\n",
    "\n",
    "mean_X = statistics.mean(x)\n",
    "mean_Y = statistics.mean(y)\n",
    "\n",
    "std_x = statistics.stdev(x)\n",
    "std_y = statistics.stdev(y)\n",
    "\n",
    "print('Mean=%.3f Stdv=%.3f' % (mean_X , std_x))\n",
    "print('Mean=%.3f Stdv=%.3f' % (mean_Y , std_y))\n",
    "\n",
    "corr, _ = pearsonr(x, y)\n",
    "print('Correlation coeff=%.3f' % corr)\n",
    "\n",
    "m = corr * (std_y/std_x)\n",
    "print(\"slope=%.5f\" %m)\n",
    "\n",
    "c = (mean_Y - m*(mean_X))\n",
    "print(\"C=%.5f\" %c)\n",
    "\n",
    "\n",
    "y_pred = []\n",
    "for i in x:\n",
    "    temp = m*i + c\n",
    "    y_pred.append(temp)\n",
    "\n",
    "plt.scatter(x,y,c='red')\n",
    "plt.plot(x,y_pred,c='green')\n",
    "plt.xlabel(\"X-axis\")\n",
    "plt.ylabel(\"Y-axis\")\n",
    "plt.show()\n",
    "\n",
    "mse = sse/97\n",
    "print(\"MSE = %.5f\" %mse)\n",
    "\n",
    "sse=0\n",
    "for i in range(97):\n",
    "    temp = pow(y[i]-y_pred[i] , 2)\n",
    "    sse+=temp\n",
    "print(\"SSE = %f\" %sse)\n",
    "\n",
    "ssr = 0 \n",
    "for i in range(97):\n",
    "    temp = pow(y_pred[i]-mean_Y , 2)\n",
    "    ssr+=temp\n",
    "print(\"SSR = %f\" %ssr)\n",
    "\n",
    "sst = 0 \n",
    "for i in range(97):\n",
    "    temp = pow(y[i]-mean_Y , 2)\n",
    "    sst+=temp\n",
    "print(\"SST = %f\" %sst)\n",
    "\n",
    "r = ssr/sst\n",
    "print(\"R^2 = %f\" %r)\n"
   ]
  },
  {
   "cell_type": "code",
   "execution_count": null,
   "id": "40694131",
   "metadata": {},
   "outputs": [],
   "source": []
  },
  {
   "cell_type": "code",
   "execution_count": null,
   "id": "79ec2655",
   "metadata": {},
   "outputs": [],
   "source": []
  }
 ],
 "metadata": {
  "kernelspec": {
   "display_name": "Python 3",
   "language": "python",
   "name": "python3"
  },
  "language_info": {
   "codemirror_mode": {
    "name": "ipython",
    "version": 3
   },
   "file_extension": ".py",
   "mimetype": "text/x-python",
   "name": "python",
   "nbconvert_exporter": "python",
   "pygments_lexer": "ipython3",
   "version": "3.8.8"
  }
 },
 "nbformat": 4,
 "nbformat_minor": 5
}

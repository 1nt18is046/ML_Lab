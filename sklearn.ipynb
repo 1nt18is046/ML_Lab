{
 "cells": [
  {
   "cell_type": "code",
   "execution_count": 18,
   "id": "954c2c7b",
   "metadata": {},
   "outputs": [
    {
     "name": "stdout",
     "output_type": "stream",
     "text": [
      "mean: 0.43333333333333335\n",
      "standard deviation :  0.24944382578492946\n",
      "after standardization : \n",
      " [[0.8 0.2 0.4 0.4]\n",
      " [0.1 0.3 0.9 0.3]\n",
      " [0.5 0.7 0.5 0.1]]\n"
     ]
    }
   ],
   "source": [
    "from sklearn.preprocessing import Normalizer\n",
    "from sklearn.preprocessing import StandardScaler\n",
    "import statistics as std\n",
    "\n",
    "matrix1 = [[4,1,2,2] , [1,3,9,3] , [5,7,5,1]]\n",
    "print(\"mean:\", Normalizer().fit_transform(matrix2).mean())\n",
    "print(\"standard deviation : \" , Normalizer().fit_transform(matrix2).std())\n",
    "print(\"after standardization : \\n\" , Normalizer().fit_transform(matrix2))\n",
    "\n",
    "\n",
    "\n",
    "\n"
   ]
  },
  {
   "cell_type": "code",
   "execution_count": 17,
   "id": "a7a273f2",
   "metadata": {},
   "outputs": [
    {
     "name": "stdout",
     "output_type": "stream",
     "text": [
      "mean: 3.700743415417188e-17\n",
      "standard deviation :  1.0\n",
      "after standardization : \n",
      " [[ 0.39223227 -1.06904497 -1.16247639  0.        ]\n",
      " [-1.37281295 -0.26726124  1.27872403  1.22474487]\n",
      " [ 0.98058068  1.33630621 -0.11624764 -1.22474487]]\n"
     ]
    }
   ],
   "source": [
    "matrix2 = [[4,1,2,2] , [1,3,9,3] , [5,7,5,1]]\n",
    "#scaler = StandardScaler()\n",
    "#print(scaler.mean_)\n",
    "print(\"mean:\", StandardScaler().fit_transform(matrix2).mean())\n",
    "print(\"standard deviation : \" , StandardScaler().fit_transform(matrix2).std())\n",
    "print(\"after standardization : \\n\" , StandardScaler().fit_transform(matrix2))\n",
    "\n",
    "\n",
    "#t1.transform(matrix2)\n",
    "\n",
    "\n",
    "\n"
   ]
  },
  {
   "cell_type": "code",
   "execution_count": null,
   "id": "1a522b18",
   "metadata": {},
   "outputs": [],
   "source": []
  },
  {
   "cell_type": "code",
   "execution_count": null,
   "id": "7547a7f2",
   "metadata": {},
   "outputs": [],
   "source": []
  },
  {
   "cell_type": "code",
   "execution_count": null,
   "id": "24afc4dc",
   "metadata": {},
   "outputs": [],
   "source": []
  }
 ],
 "metadata": {
  "kernelspec": {
   "display_name": "Python 3",
   "language": "python",
   "name": "python3"
  },
  "language_info": {
   "codemirror_mode": {
    "name": "ipython",
    "version": 3
   },
   "file_extension": ".py",
   "mimetype": "text/x-python",
   "name": "python",
   "nbconvert_exporter": "python",
   "pygments_lexer": "ipython3",
   "version": "3.8.8"
  }
 },
 "nbformat": 4,
 "nbformat_minor": 5
}
